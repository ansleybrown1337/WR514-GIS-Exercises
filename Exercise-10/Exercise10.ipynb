{
 "cells": [
  {
   "cell_type": "markdown",
   "id": "794e26a6-c687-40e4-86ee-5c15a75ac917",
   "metadata": {},
   "source": [
    "# GIS Exercise 10: "
   ]
  },
  {
   "cell_type": "markdown",
   "id": "9a9ac949-9299-445d-9f07-69f613778539",
   "metadata": {
    "tags": []
   },
   "source": [
    "## For WR514: GIS and Data Analysis in Natural Resources"
   ]
  },
  {
   "cell_type": "markdown",
   "id": "638f3c1f-aa2f-4312-828e-fc2309e5f7b3",
   "metadata": {},
   "source": [
    "Created by A.J. Brown on 14 April 2023"
   ]
  }
 ],
 "metadata": {
  "kernelspec": {
   "display_name": "Python 3 (ipykernel)",
   "language": "python",
   "name": "python3"
  },
  "language_info": {
   "codemirror_mode": {
    "name": "ipython",
    "version": 3
   },
   "file_extension": ".py",
   "mimetype": "text/x-python",
   "name": "python",
   "nbconvert_exporter": "python",
   "pygments_lexer": "ipython3",
   "version": "3.9.6"
  }
 },
 "nbformat": 4,
 "nbformat_minor": 5
}
