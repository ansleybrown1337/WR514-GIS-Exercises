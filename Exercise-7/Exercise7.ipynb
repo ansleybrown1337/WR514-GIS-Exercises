{
 "cells": [
  {
   "cell_type": "markdown",
   "id": "361fbd08-a585-4df4-8a68-1dc73e7b5807",
   "metadata": {},
   "source": [
    "# GIS Exercise 7:"
   ]
  },
  {
   "cell_type": "markdown",
   "id": "56fa3c69-1ff3-422a-97ee-41b6f0ac7ce8",
   "metadata": {},
   "source": [
    "## For WR514: GIS and Data Analysis in Natural Resources"
   ]
  },
  {
   "cell_type": "markdown",
   "id": "4ba00706-7ae0-44b1-94c7-df1b76e3f331",
   "metadata": {},
   "source": [
    "Completed by A.J. Brown on 14 April 2023"
   ]
  }
 ],
 "metadata": {
  "kernelspec": {
   "display_name": "Python 3 (ipykernel)",
   "language": "python",
   "name": "python3"
  },
  "language_info": {
   "codemirror_mode": {
    "name": "ipython",
    "version": 3
   },
   "file_extension": ".py",
   "mimetype": "text/x-python",
   "name": "python",
   "nbconvert_exporter": "python",
   "pygments_lexer": "ipython3",
   "version": "3.9.6"
  }
 },
 "nbformat": 4,
 "nbformat_minor": 5
}
