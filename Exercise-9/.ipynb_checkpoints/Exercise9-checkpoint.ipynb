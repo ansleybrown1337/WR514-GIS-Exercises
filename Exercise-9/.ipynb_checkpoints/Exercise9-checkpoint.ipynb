{
 "cells": [
  {
   "cell_type": "markdown",
   "id": "e94abeac-41a3-4250-9435-5c282e2a2c67",
   "metadata": {},
   "source": [
    "# GIS Exercise 9: Creating Voronoi Map of CoAgMet Weather Stations"
   ]
  },
  {
   "cell_type": "markdown",
   "id": "0063280b-5a20-48c9-ac6d-806997606de9",
   "metadata": {
    "tags": []
   },
   "source": [
    "## For WR514: GIS and Data Analysis in Natural Resources"
   ]
  },
  {
   "cell_type": "markdown",
   "id": "348bf365-56fa-4fcd-a56f-05f8b8796008",
   "metadata": {},
   "source": [
    "Created by A.J. Brown on 14 April 2023"
   ]
  },
  {
   "cell_type": "markdown",
   "id": "9667c50b-257a-499d-b423-8d2b731e4785",
   "metadata": {},
   "source": [
    "COlorado AGricultural Meteorological nETwork — COAGMET (https://coagmet.colostate.edu/) and Northern Water operates a network of agricultural weather stations around the state of Colorado. The data from these stations lets users calculate Evapotranspiration (ET) values to model water use for various crops, and determine current weather conditions accurately.\n",
    "\n",
    "In the previous exercise we plotted the station location in Colorado, but now we will create a Voronoi map from the station points."
   ]
  },
  {
   "cell_type": "code",
   "execution_count": 1,
   "id": "ad9e8d51-5e5b-4772-9c5a-7f57049af7c3",
   "metadata": {},
   "outputs": [
    {
     "ename": "ModuleNotFoundError",
     "evalue": "No module named 'descartes'",
     "output_type": "error",
     "traceback": [
      "\u001b[1;31m---------------------------------------------------------------------------\u001b[0m",
      "\u001b[1;31mModuleNotFoundError\u001b[0m                       Traceback (most recent call last)",
      "Cell \u001b[1;32mIn[1], line 7\u001b[0m\n\u001b[0;32m      5\u001b[0m plt\u001b[38;5;241m.\u001b[39mrcParams\u001b[38;5;241m.\u001b[39mupdate({\u001b[38;5;124m'\u001b[39m\u001b[38;5;124mfont.size\u001b[39m\u001b[38;5;124m'\u001b[39m: \u001b[38;5;241m22\u001b[39m})\n\u001b[0;32m      6\u001b[0m \u001b[38;5;28;01mfrom\u001b[39;00m \u001b[38;5;21;01mshapely\u001b[39;00m\u001b[38;5;21;01m.\u001b[39;00m\u001b[38;5;21;01mops\u001b[39;00m \u001b[38;5;28;01mimport\u001b[39;00m cascaded_union\n\u001b[1;32m----> 7\u001b[0m \u001b[38;5;28;01mfrom\u001b[39;00m \u001b[38;5;21;01mgeovoronoi\u001b[39;00m\u001b[38;5;21;01m.\u001b[39;00m\u001b[38;5;21;01mplotting\u001b[39;00m \u001b[38;5;28;01mimport\u001b[39;00m subplot_for_map, plot_voronoi_polys_with_points_in_area\n\u001b[0;32m      8\u001b[0m \u001b[38;5;28;01mfrom\u001b[39;00m \u001b[38;5;21;01mgeovoronoi\u001b[39;00m \u001b[38;5;28;01mimport\u001b[39;00m voronoi_regions_from_coords, points_to_coords\n",
      "File \u001b[1;32mC:\\ProgramData\\Miniconda3\\envs\\playground2\\lib\\site-packages\\geovoronoi\\plotting.py:10\u001b[0m\n\u001b[0;32m      8\u001b[0m \u001b[38;5;28;01mimport\u001b[39;00m \u001b[38;5;21;01mmatplotlib\u001b[39;00m\u001b[38;5;21;01m.\u001b[39;00m\u001b[38;5;21;01mpyplot\u001b[39;00m \u001b[38;5;28;01mas\u001b[39;00m \u001b[38;5;21;01mplt\u001b[39;00m\n\u001b[0;32m      9\u001b[0m \u001b[38;5;28;01mfrom\u001b[39;00m \u001b[38;5;21;01mmatplotlib\u001b[39;00m\u001b[38;5;21;01m.\u001b[39;00m\u001b[38;5;21;01mcollections\u001b[39;00m \u001b[38;5;28;01mimport\u001b[39;00m PatchCollection\n\u001b[1;32m---> 10\u001b[0m \u001b[38;5;28;01mfrom\u001b[39;00m \u001b[38;5;21;01mdescartes\u001b[39;00m\u001b[38;5;21;01m.\u001b[39;00m\u001b[38;5;21;01mpatch\u001b[39;00m \u001b[38;5;28;01mimport\u001b[39;00m PolygonPatch\n\u001b[0;32m     11\u001b[0m \u001b[38;5;28;01mfrom\u001b[39;00m \u001b[38;5;21;01mgeopandas\u001b[39;00m\u001b[38;5;21;01m.\u001b[39;00m\u001b[38;5;21;01mplotting\u001b[39;00m \u001b[38;5;28;01mimport\u001b[39;00m _flatten_multi_geoms\n\u001b[0;32m     12\u001b[0m \u001b[38;5;28;01mfrom\u001b[39;00m \u001b[38;5;21;01mgeopandas\u001b[39;00m \u001b[38;5;28;01mimport\u001b[39;00m GeoSeries\n",
      "\u001b[1;31mModuleNotFoundError\u001b[0m: No module named 'descartes'"
     ]
    }
   ],
   "source": [
    "import geopandas as gpd\n",
    "import pandas as pd\n",
    "import matplotlib.pyplot as plt\n",
    "plt.rcParams['figure.figsize'] = [20, 12]\n",
    "plt.rcParams.update({'font.size': 22})\n",
    "from shapely.ops import cascaded_union\n",
    "from geovoronoi.plotting import subplot_for_map, plot_voronoi_polys_with_points_in_area\n",
    "from geovoronoi import voronoi_regions_from_coords, points_to_coords"
   ]
  },
  {
   "cell_type": "markdown",
   "id": "b6968bcd-8ff8-44e0-bf9e-6065f2273272",
   "metadata": {},
   "source": [
    "## Import weather station data from csv"
   ]
  },
  {
   "cell_type": "code",
   "execution_count": null,
   "id": "12739664-2f22-46ce-9e80-b820d7a5e7d1",
   "metadata": {},
   "outputs": [],
   "source": [
    "df = pd.read_csv(r\"C:\\Users\\AJ-CPU\\Documents\\GitHub\\WR514-GIS-Exercises\\Exercise-9\\coagmet-meta.csv\")\n",
    "df['Latitude'] = pd.to_numeric(df['Latitude'])\n",
    "df['Longitude'] = pd.to_numeric(df['Longitude'])\n",
    "\n",
    "df"
   ]
  },
  {
   "cell_type": "markdown",
   "id": "2477b948-e07e-45e1-8529-9a6062461f9a",
   "metadata": {},
   "source": [
    "## Import CO Data and Plot"
   ]
  },
  {
   "cell_type": "code",
   "execution_count": null,
   "id": "bb50a5ec-905c-4c55-b723-436862aa959b",
   "metadata": {},
   "outputs": [],
   "source": [
    "# convert pandas df to geopandas df\n",
    "gdf = gpd.GeoDataFrame(df, geometry=gpd.points_from_xy(df.Longitude, df.Latitude))\n",
    "# Set coordinate system to WGS 84 decimal degrees: https://geopandas.org/en/stable/docs/user_guide/projections.html\n",
    "gdf = gdf.set_crs('epsg:4326', allow_override=True)\n",
    "\n",
    "# Call State Boundaries from US Census\n",
    "state_df = gpd.read_file(\"https://datascience.quantecon.org/assets/data/cb_2016_us_state_5m.zip\")\n",
    "state_df = state_df.query(\"STATEFP == '08'\")\n",
    "\n",
    "# Call CO County Boundaries from US Census\n",
    "county_df = gpd.read_file(\"https://datascience.quantecon.org/assets/data/cb_2016_us_county_5m.zip\")\n",
    "county_df = county_df.query(\"STATEFP == '08'\")\n",
    "\n",
    "fig, ax = plt.subplots(1,1)\n",
    "county = county_df.plot(ax=ax, edgecolor=\"black\", color=\"white\")\n",
    "plt.savefig('co.png')\n",
    "plt.tight_layout()"
   ]
  },
  {
   "cell_type": "markdown",
   "id": "354941f2-ca12-46e6-bd6e-055195026491",
   "metadata": {},
   "source": [
    "## Plot Station Points (County Boundaries)"
   ]
  },
  {
   "cell_type": "code",
   "execution_count": null,
   "id": "edcf4745-a291-4f40-a07d-c09bb46f84c7",
   "metadata": {},
   "outputs": [],
   "source": [
    "# Initialize Point map (optional, default will be to use interactive map below instead)\n",
    "fig, ax = plt.subplots(1,1)\n",
    "county = county_df.plot(ax=ax, edgecolor=\"black\", color=\"white\")\n",
    "gdf.plot(ax=county, column=gdf['Owner'], legend=True, legend_kwds={'bbox_to_anchor': (1.3, 0.5)}, cmap='Dark2')\n",
    "plt.savefig('stations_county.png')\n",
    "plt.tight_layout()"
   ]
  },
  {
   "cell_type": "markdown",
   "id": "9fd3cfce-5680-4e37-bd43-f0ca1d11f1e3",
   "metadata": {},
   "source": [
    "## Plot Station Points (State Boundary)"
   ]
  },
  {
   "cell_type": "code",
   "execution_count": null,
   "id": "005e229d-f352-438d-b717-895ccee25dbc",
   "metadata": {},
   "outputs": [],
   "source": [
    "# Initialize Point map (optional, default will be to use interactive map below instead)\n",
    "fig, ax = plt.subplots(1,1)\n",
    "state = state_df.plot(ax=ax, edgecolor=\"black\", color=\"white\")\n",
    "gdf.plot(ax=state, column=gdf['Owner'], legend=True, legend_kwds={'bbox_to_anchor': (1.3, 0.5)}, cmap='Dark2')\n",
    "plt.savefig('stations_state.png')\n",
    "plt.tight_layout()"
   ]
  },
  {
   "cell_type": "markdown",
   "id": "075245af-f403-4384-b004-1e4b395c5b01",
   "metadata": {},
   "source": [
    "## Voronoi Mapping"
   ]
  },
  {
   "cell_type": "code",
   "execution_count": null,
   "id": "0cf25ba7-ef75-437d-bbfb-daa1f7b8a0e8",
   "metadata": {},
   "outputs": [],
   "source": []
  }
 ],
 "metadata": {
  "kernelspec": {
   "display_name": "Python 3 (ipykernel)",
   "language": "python",
   "name": "python3"
  },
  "language_info": {
   "codemirror_mode": {
    "name": "ipython",
    "version": 3
   },
   "file_extension": ".py",
   "mimetype": "text/x-python",
   "name": "python",
   "nbconvert_exporter": "python",
   "pygments_lexer": "ipython3",
   "version": "3.9.6"
  }
 },
 "nbformat": 4,
 "nbformat_minor": 5
}
